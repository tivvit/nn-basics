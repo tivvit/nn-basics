{
 "cells": [
  {
   "cell_type": "markdown",
   "metadata": {},
   "source": [
    "# Perceptron classifier"
   ]
  },
  {
   "cell_type": "markdown",
   "metadata": {},
   "source": [
    "Classification into 2 classes"
   ]
  },
  {
   "cell_type": "code",
   "execution_count": 1,
   "metadata": {},
   "outputs": [],
   "source": [
    "x = [1.7, 1.5, 1.48, 1.8, 1.9, 1.75, 1.6] # height\n",
    "y = [1, 0, 0, 1, 1, 1, 0] # 1 - man; 0 - woman"
   ]
  },
  {
   "cell_type": "code",
   "execution_count": 2,
   "metadata": {},
   "outputs": [],
   "source": [
    "import numpy as np\n",
    "\n",
    "import matplotlib.pyplot as plt\n",
    "plt.style.use('ggplot')\n",
    "%matplotlib inline\n",
    "\n",
    "import math"
   ]
  },
  {
   "cell_type": "code",
   "execution_count": 3,
   "metadata": {},
   "outputs": [
    {
     "data": {
      "text/plain": [
       "<matplotlib.collections.PathCollection at 0x7feab1e63dd8>"
      ]
     },
     "execution_count": 3,
     "metadata": {},
     "output_type": "execute_result"
    },
    {
     "data": {
      "image/png": "[encoded data removed]",
      "text/plain": [
       "<matplotlib.figure.Figure at 0x7fead806b6a0>"
      ]
     },
     "metadata": {},
     "output_type": "display_data"
    }
   ],
   "source": [
    "plt.scatter(x, y)"
   ]
  },
  {
   "cell_type": "markdown",
   "metadata": {},
   "source": [
    "## Initialization"
   ]
  },
  {
   "cell_type": "code",
   "execution_count": 4,
   "metadata": {},
   "outputs": [],
   "source": [
    "import random"
   ]
  },
  {
   "cell_type": "code",
   "execution_count": 5,
   "metadata": {},
   "outputs": [
    {
     "data": {
      "text/plain": [
       "(0.6131938770912271, 0.23009174378905917)"
      ]
     },
     "execution_count": 5,
     "metadata": {},
     "output_type": "execute_result"
    }
   ],
   "source": [
    "w = random.random()\n",
    "b = random.random()\n",
    "(w, b)"
   ]
  },
  {
   "cell_type": "markdown",
   "metadata": {},
   "source": [
    "## Utils"
   ]
  },
  {
   "cell_type": "code",
   "execution_count": 6,
   "metadata": {},
   "outputs": [],
   "source": [
    "def perceptron(x):\n",
    "    return w * x + b\n",
    "\n",
    "def heavyside(n):\n",
    "    return 1 if n >= 0 else 0"
   ]
  },
  {
   "cell_type": "code",
   "execution_count": 7,
   "metadata": {},
   "outputs": [],
   "source": [
    "def evaluate():\n",
    "    for i, v in enumerate(x):\n",
    "        p = heavyside(perceptron(v))\n",
    "        print(\"in: {} prediction: {} ground truth: {} correct: {}\".format(i, p, y[i], p == y[i]))"
   ]
  },
  {
   "cell_type": "code",
   "execution_count": 8,
   "metadata": {},
   "outputs": [],
   "source": [
    "def visualize():\n",
    "    plt.figure()\n",
    "    plt.scatter(x, y)\n",
    "    plt.plot(x, [perceptron(i) for i in x], \"b\", alpha=0.4)"
   ]
  },
  {
   "cell_type": "markdown",
   "metadata": {},
   "source": [
    "## Eval"
   ]
  },
  {
   "cell_type": "code",
   "execution_count": 9,
   "metadata": {},
   "outputs": [
    {
     "name": "stdout",
     "output_type": "stream",
     "text": [
      "in: 0 prediction: 1 ground truth: 1 correct: True\n",
      "in: 1 prediction: 1 ground truth: 0 correct: False\n",
      "in: 2 prediction: 1 ground truth: 0 correct: False\n",
      "in: 3 prediction: 1 ground truth: 1 correct: True\n",
      "in: 4 prediction: 1 ground truth: 1 correct: True\n",
      "in: 5 prediction: 1 ground truth: 1 correct: True\n",
      "in: 6 prediction: 1 ground truth: 0 correct: False\n"
     ]
    }
   ],
   "source": [
    "evaluate()"
   ]
  },
  {
   "cell_type": "code",
   "execution_count": 10,
   "metadata": {},
   "outputs": [
    {
     "data": {
      "image/png": "[encoded data removed]",
      "text/plain": [
       "<matplotlib.figure.Figure at 0x7feab1e3be10>"
      ]
     },
     "metadata": {},
     "output_type": "display_data"
    }
   ],
   "source": [
    "visualize()"
   ]
  },
  {
   "cell_type": "markdown",
   "metadata": {},
   "source": [
    "## Stochastic gradient descent"
   ]
  },
  {
   "cell_type": "code",
   "execution_count": 11,
   "metadata": {},
   "outputs": [
    {
     "name": "stdout",
     "output_type": "stream",
     "text": [
      "Epoch 0, mse (mean squared err) 0.4286, se (squared err): 3\n",
      "Epoch 1, mse (mean squared err) 0.7143, se (squared err): 5\n",
      "Epoch 2, mse (mean squared err) 0.5714, se (squared err): 4\n",
      "Epoch 3, mse (mean squared err) 0.5714, se (squared err): 4\n",
      "Epoch 4, mse (mean squared err) 0.5714, se (squared err): 4\n",
      "Epoch 5, mse (mean squared err) 0.5714, se (squared err): 4\n",
      "Epoch 6, mse (mean squared err) 0.4286, se (squared err): 3\n",
      "Epoch 7, mse (mean squared err) 0.5714, se (squared err): 4\n",
      "Epoch 8, mse (mean squared err) 0.5714, se (squared err): 4\n",
      "Epoch 9, mse (mean squared err) 0.5714, se (squared err): 4\n",
      "Epoch 10, mse (mean squared err) 0.5714, se (squared err): 4\n",
      "Epoch 11, mse (mean squared err) 0.5714, se (squared err): 4\n",
      "Epoch 12, mse (mean squared err) 0.4286, se (squared err): 3\n",
      "Epoch 13, mse (mean squared err) 0.5714, se (squared err): 4\n",
      "Epoch 14, mse (mean squared err) 0.5714, se (squared err): 4\n",
      "Epoch 15, mse (mean squared err) 0.5714, se (squared err): 4\n",
      "Epoch 16, mse (mean squared err) 0.5714, se (squared err): 4\n",
      "Epoch 17, mse (mean squared err) 0.5714, se (squared err): 4\n",
      "Epoch 18, mse (mean squared err) 0.4286, se (squared err): 3\n",
      "Epoch 19, mse (mean squared err) 0.2857, se (squared err): 2\n"
     ]
    }
   ],
   "source": [
    "epochs = range(20)\n",
    "lr = 0.4\n",
    "for e in epochs:\n",
    "    sq_err = 0\n",
    "    for i in range(len(x)):\n",
    "        prediction = heavyside(perceptron(x[i]))\n",
    "        correct = y[i]\n",
    "        err = correct - prediction\n",
    "        sq_err += err ** 2\n",
    "        w += lr * err * x[i]\n",
    "        b += lr * err\n",
    "    print(\"Epoch {}, mse (mean squared err) {:.4f}, se (squared err): {}\".format(e, sq_err / len(x), sq_err))"
   ]
  },
  {
   "cell_type": "markdown",
   "metadata": {},
   "source": [
    "## Eval"
   ]
  },
  {
   "cell_type": "code",
   "execution_count": 12,
   "metadata": {},
   "outputs": [
    {
     "data": {
      "text/plain": [
       "(0.26119387709122577, -1.769908256210941)"
      ]
     },
     "execution_count": 12,
     "metadata": {},
     "output_type": "execute_result"
    }
   ],
   "source": [
    "(w, b)"
   ]
  },
  {
   "cell_type": "code",
   "execution_count": 13,
   "metadata": {},
   "outputs": [
    {
     "data": {
      "image/png": "[encoded data removed]",
      "text/plain": [
       "<matplotlib.figure.Figure at 0x7feab1dffbe0>"
      ]
     },
     "metadata": {},
     "output_type": "display_data"
    }
   ],
   "source": [
    "visualize()"
   ]
  },
  {
   "cell_type": "code",
   "execution_count": 14,
   "metadata": {},
   "outputs": [
    {
     "name": "stdout",
     "output_type": "stream",
     "text": [
      "in: 0 prediction: 0 ground truth: 1 correct: False\n",
      "in: 1 prediction: 0 ground truth: 0 correct: True\n",
      "in: 2 prediction: 0 ground truth: 0 correct: True\n",
      "in: 3 prediction: 0 ground truth: 1 correct: False\n",
      "in: 4 prediction: 0 ground truth: 1 correct: False\n",
      "in: 5 prediction: 0 ground truth: 1 correct: False\n",
      "in: 6 prediction: 0 ground truth: 0 correct: True\n"
     ]
    }
   ],
   "source": [
    "evaluate()"
   ]
  },
  {
   "cell_type": "markdown",
   "metadata": {},
   "source": [
    "## Tensorflow"
   ]
  },
  {
   "cell_type": "markdown",
   "metadata": {},
   "source": [
    "* https://github.com/rasbt/deep-learning-book/blob/master/code/ch02_perceptron/ch02_perceptron.ipynb\n",
    "* https://github.com/rasbt/deep-learning-book/blob/master/code/model_zoo/perceptron.ipynb"
   ]
  },
  {
   "cell_type": "markdown",
   "metadata": {},
   "source": [
    "## Resources\n",
    "* https://machinelearningmastery.com/implement-perceptron-algorithm-scratch-python/\n",
    "* https://github.com/chaitjo/Perceptron"
   ]
  }
 ],
 "metadata": {
  "kernelspec": {
   "display_name": "Python 3",
   "language": "python",
   "name": "python3"
  },
  "language_info": {
   "codemirror_mode": {
    "name": "ipython",
    "version": 3
   },
   "file_extension": ".py",
   "mimetype": "text/x-python",
   "name": "python",
   "nbconvert_exporter": "python",
   "pygments_lexer": "ipython3",
   "version": "3.5.2"
  }
 },
 "nbformat": 4,
 "nbformat_minor": 2
}
