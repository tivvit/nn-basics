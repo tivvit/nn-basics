{
 "cells": [
  {
   "cell_type": "markdown",
   "metadata": {},
   "source": [
    "# Activation functions"
   ]
  },
  {
   "cell_type": "markdown",
   "metadata": {},
   "source": [
    "TODO - describe how they work and why we need them"
   ]
  },
  {
   "cell_type": "code",
   "execution_count": 1,
   "metadata": {},
   "outputs": [],
   "source": [
    "import numpy as np\n",
    "\n",
    "import matplotlib.pyplot as plt\n",
    "plt.style.use('ggplot')\n",
    "%matplotlib inline\n",
    "\n",
    "import math\n",
    "\n",
    "x = np.linspace(-10, 10, num=200)\n",
    "x_discrete = [-1, -.5, -.1, -0.01, 0, 0.01, .1, .5, 1]"
   ]
  },
  {
   "cell_type": "markdown",
   "metadata": {},
   "source": [
    "## Heaviside step function"
   ]
  },
  {
   "cell_type": "markdown",
   "metadata": {},
   "source": [
    "https://en.wikipedia.org/wiki/Heaviside_step_function"
   ]
  },
  {
   "cell_type": "markdown",
   "metadata": {},
   "source": [
    "\\begin{equation*}\n",
    "heavyside(x) = \n",
    "\\begin{cases}\n",
    " & \\text{ 0 }, n <  0, \\\\ \n",
    " & \\text{ 1 }, n \\geq  0,\n",
    "\\end{cases}\n",
    "\\end{equation*}"
   ]
  },
  {
   "cell_type": "code",
   "execution_count": 2,
   "metadata": {},
   "outputs": [],
   "source": [
    "def heavyside(n):\n",
    "    return 1 if n >= 0 else 0"
   ]
  },
  {
   "cell_type": "code",
   "execution_count": 3,
   "metadata": {},
   "outputs": [
    {
     "data": {
      "text/plain": [
       "[<matplotlib.lines.Line2D at 0x7fc67b09cd68>]"
      ]
     },
     "execution_count": 3,
     "metadata": {},
     "output_type": "execute_result"
    },
    {
     "data": {
      "image/png": "[encoded data removed]",
      "text/plain": [
       "<matplotlib.figure.Figure at 0x7fc6a02ad208>"
      ]
     },
     "metadata": {},
     "output_type": "display_data"
    }
   ],
   "source": [
    "plt.plot(x, list(map(heavyside, x)))"
   ]
  },
  {
   "cell_type": "code",
   "execution_count": 4,
   "metadata": {},
   "outputs": [
    {
     "name": "stdout",
     "output_type": "stream",
     "text": [
      "heavyside(-1) = 0\n",
      "heavyside(-0.5) = 0\n",
      "heavyside(-0.1) = 0\n",
      "heavyside(-0.01) = 0\n",
      "heavyside(0) = 1\n",
      "heavyside(0.01) = 1\n",
      "heavyside(0.1) = 1\n",
      "heavyside(0.5) = 1\n",
      "heavyside(1) = 1\n"
     ]
    }
   ],
   "source": [
    "for i in x_discrete:\n",
    "    print(\"{}({}) = {}\".format(\"heavyside\", i, heavyside(i)))"
   ]
  },
  {
   "cell_type": "markdown",
   "metadata": {},
   "source": [
    "## Sign"
   ]
  },
  {
   "cell_type": "markdown",
   "metadata": {},
   "source": [
    "https://en.wikipedia.org/wiki/Sign_function"
   ]
  },
  {
   "cell_type": "markdown",
   "metadata": {},
   "source": [
    "\\begin{equation*}\n",
    "sgn(n) = \n",
    "\\begin{cases}\n",
    " & \\text{ -1 }, n <  0, \\\\ \n",
    " & \\text{ 0 }, n =  0, \\\\ \n",
    " & \\text{ 1 }, n >  0,\n",
    "\\end{cases}\n",
    "\\end{equation*}"
   ]
  },
  {
   "cell_type": "code",
   "execution_count": 5,
   "metadata": {},
   "outputs": [],
   "source": [
    "def sign(n):\n",
    "    return 0 if n == 0 else (-1 if n < 0 else 1)"
   ]
  },
  {
   "cell_type": "code",
   "execution_count": 6,
   "metadata": {},
   "outputs": [
    {
     "data": {
      "text/plain": [
       "[<matplotlib.lines.Line2D at 0x7fc67b01f278>]"
      ]
     },
     "execution_count": 6,
     "metadata": {},
     "output_type": "execute_result"
    },
    {
     "data": {
      "image/png": "[encoded data removed]",
      "text/plain": [
       "<matplotlib.figure.Figure at 0x7fc67b040438>"
      ]
     },
     "metadata": {},
     "output_type": "display_data"
    }
   ],
   "source": [
    "plt.plot(x, list(map(sign, x)))"
   ]
  },
  {
   "cell_type": "code",
   "execution_count": 7,
   "metadata": {},
   "outputs": [
    {
     "name": "stdout",
     "output_type": "stream",
     "text": [
      "sign(-1) = -1\n",
      "sign(-0.5) = -1\n",
      "sign(-0.1) = -1\n",
      "sign(-0.01) = -1\n",
      "sign(0) = 0\n",
      "sign(0.01) = 1\n",
      "sign(0.1) = 1\n",
      "sign(0.5) = 1\n",
      "sign(1) = 1\n"
     ]
    }
   ],
   "source": [
    "for i in x_discrete:\n",
    "    print(\"{}({}) = {}\".format(\"sign\", i, sign(i)))"
   ]
  },
  {
   "cell_type": "markdown",
   "metadata": {},
   "source": [
    "## Linear"
   ]
  },
  {
   "cell_type": "markdown",
   "metadata": {},
   "source": [
    "https://en.wikipedia.org/wiki/Linear_function"
   ]
  },
  {
   "cell_type": "markdown",
   "metadata": {},
   "source": [
    "\\begin{equation*}\n",
    "L(x) = x\n",
    "\\end{equation*}"
   ]
  },
  {
   "cell_type": "code",
   "execution_count": 8,
   "metadata": {},
   "outputs": [],
   "source": [
    "def linear(x):\n",
    "    return x"
   ]
  },
  {
   "cell_type": "code",
   "execution_count": 9,
   "metadata": {},
   "outputs": [
    {
     "data": {
      "text/plain": [
       "[<matplotlib.lines.Line2D at 0x7fc67afec400>]"
      ]
     },
     "execution_count": 9,
     "metadata": {},
     "output_type": "execute_result"
    },
    {
     "data": {
      "image/png": "[encoded data removed]",
      "text/plain": [
       "<matplotlib.figure.Figure at 0x7fc67b040b38>"
      ]
     },
     "metadata": {},
     "output_type": "display_data"
    }
   ],
   "source": [
    "plt.plot(x, list(map(linear, x)))"
   ]
  },
  {
   "cell_type": "code",
   "execution_count": 10,
   "metadata": {},
   "outputs": [
    {
     "name": "stdout",
     "output_type": "stream",
     "text": [
      "linear(-1) = -1\n",
      "linear(-0.5) = -0.5\n",
      "linear(-0.1) = -0.1\n",
      "linear(-0.01) = -0.01\n",
      "linear(0) = 0\n",
      "linear(0.01) = 0.01\n",
      "linear(0.1) = 0.1\n",
      "linear(0.5) = 0.5\n",
      "linear(1) = 1\n"
     ]
    }
   ],
   "source": [
    "for i in x_discrete:\n",
    "    print(\"{}({}) = {}\".format(\"linear\", i, linear(i)))"
   ]
  },
  {
   "cell_type": "markdown",
   "metadata": {},
   "source": [
    "## Logistic (sigmoid)"
   ]
  },
  {
   "cell_type": "markdown",
   "metadata": {},
   "source": [
    "https://en.wikipedia.org/wiki/Logistic_function"
   ]
  },
  {
   "cell_type": "markdown",
   "metadata": {},
   "source": [
    "\\begin{equation*}\n",
    "Logistic(x) = \\frac{L}{1 + e ^{-k(x - x_{0})}}\n",
    "\\end{equation*}"
   ]
  },
  {
   "cell_type": "markdown",
   "metadata": {},
   "source": [
    "\\begin{equation*}\n",
    "Logistic(x) = \\frac{1}{1 + e ^{-x}}\n",
    "\\end{equation*}"
   ]
  },
  {
   "cell_type": "code",
   "execution_count": 11,
   "metadata": {},
   "outputs": [],
   "source": [
    "def logistic(x):\n",
    "    return 1 / (1 + math.e ** (-x))"
   ]
  },
  {
   "cell_type": "code",
   "execution_count": 12,
   "metadata": {},
   "outputs": [
    {
     "data": {
      "text/plain": [
       "[<matplotlib.lines.Line2D at 0x7fc67afb2eb8>]"
      ]
     },
     "execution_count": 12,
     "metadata": {},
     "output_type": "execute_result"
    },
    {
     "data": {
      "image/png": "[encoded data removed]",
      "text/plain": [
       "<matplotlib.figure.Figure at 0x7fc6a02ad080>"
      ]
     },
     "metadata": {},
     "output_type": "display_data"
    }
   ],
   "source": [
    "plt.plot(x, list(map(logistic, x)))"
   ]
  },
  {
   "cell_type": "code",
   "execution_count": 13,
   "metadata": {},
   "outputs": [
    {
     "name": "stdout",
     "output_type": "stream",
     "text": [
      "logistic(-1) = 0.2689414213699951\n",
      "logistic(-0.5) = 0.3775406687981454\n",
      "logistic(-0.1) = 0.47502081252106\n",
      "logistic(-0.01) = 0.49750002083312506\n",
      "logistic(0) = 0.5\n",
      "logistic(0.01) = 0.5024999791668749\n",
      "logistic(0.1) = 0.52497918747894\n",
      "logistic(0.5) = 0.6224593312018546\n",
      "logistic(1) = 0.7310585786300049\n"
     ]
    }
   ],
   "source": [
    "for i in x_discrete:\n",
    "    print(\"{}({}) = {}\".format(\"logistic\", i, logistic(i)))"
   ]
  },
  {
   "cell_type": "markdown",
   "metadata": {},
   "source": [
    "## Hyperbolic Tangent"
   ]
  },
  {
   "cell_type": "markdown",
   "metadata": {},
   "source": [
    "https://en.wikipedia.org/wiki/Hyperbolic_function"
   ]
  },
  {
   "cell_type": "markdown",
   "metadata": {},
   "source": [
    "\\begin{equation*}\n",
    "tanh(x) = \\frac{e^{x} - e^{-x}}{e^{x} + e^{-x}}\n",
    "\\end{equation*}"
   ]
  },
  {
   "cell_type": "code",
   "execution_count": 14,
   "metadata": {},
   "outputs": [],
   "source": [
    "def tanh(x):\n",
    "    return (math.e ** x - math.e ** (-x)) / (math.e ** x + math.e ** (-x))"
   ]
  },
  {
   "cell_type": "code",
   "execution_count": 15,
   "metadata": {},
   "outputs": [
    {
     "data": {
      "text/plain": [
       "[<matplotlib.lines.Line2D at 0x7fc67af674e0>]"
      ]
     },
     "execution_count": 15,
     "metadata": {},
     "output_type": "execute_result"
    },
    {
     "data": {
      "image/png": "[encoded data removed]",
      "text/plain": [
       "<matplotlib.figure.Figure at 0x7fc67aff74e0>"
      ]
     },
     "metadata": {},
     "output_type": "display_data"
    }
   ],
   "source": [
    "plt.plot(x, list(map(tanh, x)))"
   ]
  },
  {
   "cell_type": "code",
   "execution_count": 16,
   "metadata": {},
   "outputs": [
    {
     "name": "stdout",
     "output_type": "stream",
     "text": [
      "tanh(-1) = -0.7615941559557649\n",
      "tanh(-0.5) = -0.4621171572600098\n",
      "tanh(-0.1) = -0.0996679946249559\n",
      "tanh(-0.01) = -0.00999966667999938\n",
      "tanh(0) = 0.0\n",
      "tanh(0.01) = 0.00999966667999938\n",
      "tanh(0.1) = 0.0996679946249559\n",
      "tanh(0.5) = 0.4621171572600098\n",
      "tanh(1) = 0.7615941559557649\n"
     ]
    }
   ],
   "source": [
    "for i in x_discrete:\n",
    "    print(\"{}({}) = {}\".format(\"tanh\", i, tanh(i)))"
   ]
  },
  {
   "cell_type": "markdown",
   "metadata": {},
   "source": [
    "## ReLu"
   ]
  },
  {
   "cell_type": "markdown",
   "metadata": {},
   "source": [
    "https://en.wikipedia.org/wiki/Rectifier_(neural_networks)"
   ]
  },
  {
   "cell_type": "markdown",
   "metadata": {},
   "source": [
    "\\begin{equation*}\n",
    "relu(x) = x^{+} = max(0, x)\n",
    "\\end{equation*}"
   ]
  },
  {
   "cell_type": "code",
   "execution_count": 17,
   "metadata": {},
   "outputs": [],
   "source": [
    "def relu(x):\n",
    "    return max(0, x)"
   ]
  },
  {
   "cell_type": "code",
   "execution_count": 18,
   "metadata": {},
   "outputs": [
    {
     "data": {
      "text/plain": [
       "[<matplotlib.lines.Line2D at 0x7fc67aec4550>]"
      ]
     },
     "execution_count": 18,
     "metadata": {},
     "output_type": "execute_result"
    },
    {
     "data": {
      "image/png": "[encoded data removed]",
      "text/plain": [
       "<matplotlib.figure.Figure at 0x7fc67af64b38>"
      ]
     },
     "metadata": {},
     "output_type": "display_data"
    }
   ],
   "source": [
    "plt.plot(x, list(map(relu, x)))"
   ]
  },
  {
   "cell_type": "code",
   "execution_count": 19,
   "metadata": {},
   "outputs": [
    {
     "name": "stdout",
     "output_type": "stream",
     "text": [
      "relu(-1) = 0\n",
      "relu(-0.5) = 0\n",
      "relu(-0.1) = 0\n",
      "relu(-0.01) = 0\n",
      "relu(0) = 0\n",
      "relu(0.01) = 0.01\n",
      "relu(0.1) = 0.1\n",
      "relu(0.5) = 0.5\n",
      "relu(1) = 1\n"
     ]
    }
   ],
   "source": [
    "for i in x_discrete:\n",
    "    print(\"{}({}) = {}\".format(\"relu\", i, relu(i)))"
   ]
  },
  {
   "cell_type": "markdown",
   "metadata": {},
   "source": [
    "## Leaky ReLu"
   ]
  },
  {
   "cell_type": "markdown",
   "metadata": {},
   "source": [
    "\\begin{equation*}\n",
    "lrelu(x) = \n",
    "\\begin{cases}\n",
    " & \\text{x}, x > 0, \\\\ \n",
    " & \\text{ax}, otherwise,\n",
    "\\end{cases}\n",
    "\\end{equation*}"
   ]
  },
  {
   "cell_type": "code",
   "execution_count": 20,
   "metadata": {},
   "outputs": [],
   "source": [
    "def lrelu(x, a=0.1):\n",
    "    return x if x > 0 else (a * x)"
   ]
  },
  {
   "cell_type": "code",
   "execution_count": 21,
   "metadata": {},
   "outputs": [
    {
     "data": {
      "text/plain": [
       "[<matplotlib.lines.Line2D at 0x7fc67ae83e48>]"
      ]
     },
     "execution_count": 21,
     "metadata": {},
     "output_type": "execute_result"
    },
    {
     "data": {
      "image/png": "[encoded data removed]",
      "text/plain": [
       "<matplotlib.figure.Figure at 0x7fc67af251d0>"
      ]
     },
     "metadata": {},
     "output_type": "display_data"
    }
   ],
   "source": [
    "plt.plot(x, list(map(lrelu, x)))"
   ]
  },
  {
   "cell_type": "code",
   "execution_count": 22,
   "metadata": {},
   "outputs": [
    {
     "name": "stdout",
     "output_type": "stream",
     "text": [
      "lrelu(-1) = -0.1\n",
      "lrelu(-0.5) = -0.05\n",
      "lrelu(-0.1) = -0.010000000000000002\n",
      "lrelu(-0.01) = -0.001\n",
      "lrelu(0) = 0.0\n",
      "lrelu(0.01) = 0.01\n",
      "lrelu(0.1) = 0.1\n",
      "lrelu(0.5) = 0.5\n",
      "lrelu(1) = 1\n"
     ]
    }
   ],
   "source": [
    "for i in x_discrete:\n",
    "    print(\"{}({}) = {}\".format(\"lrelu\", i, lrelu(i)))"
   ]
  },
  {
   "cell_type": "markdown",
   "metadata": {},
   "source": [
    "## ELU"
   ]
  },
  {
   "cell_type": "markdown",
   "metadata": {},
   "source": [
    "\\begin{equation*}\n",
    "elu(x) = \n",
    "\\begin{cases}\n",
    " & \\text{x}, x \\geq 0, \\\\ \n",
    " & a(e^{x} - 1), otherwise,\n",
    "\\end{cases}\n",
    "\\end{equation*}"
   ]
  },
  {
   "cell_type": "code",
   "execution_count": 23,
   "metadata": {},
   "outputs": [],
   "source": [
    "def elu(x, a=0.5):\n",
    "    return x if x >= 0 else (a * (math.e ** x - 1))"
   ]
  },
  {
   "cell_type": "code",
   "execution_count": 24,
   "metadata": {},
   "outputs": [
    {
     "data": {
      "text/plain": [
       "[<matplotlib.lines.Line2D at 0x7fc67ae48668>]"
      ]
     },
     "execution_count": 24,
     "metadata": {},
     "output_type": "execute_result"
    },
    {
     "data": {
      "image/png": "[encoded data removed]",
      "text/plain": [
       "<matplotlib.figure.Figure at 0x7fc67ae91940>"
      ]
     },
     "metadata": {},
     "output_type": "display_data"
    }
   ],
   "source": [
    "plt.plot(x, list(map(elu, x)))"
   ]
  },
  {
   "cell_type": "code",
   "execution_count": 25,
   "metadata": {},
   "outputs": [
    {
     "name": "stdout",
     "output_type": "stream",
     "text": [
      "elu(-1) = -0.31606027941427883\n",
      "elu(-0.5) = -0.1967346701436833\n",
      "elu(-0.1) = -0.04758129098202024\n",
      "elu(-0.01) = -0.004975083125415947\n",
      "elu(0) = 0\n",
      "elu(0.01) = 0.01\n",
      "elu(0.1) = 0.1\n",
      "elu(0.5) = 0.5\n",
      "elu(1) = 1\n"
     ]
    }
   ],
   "source": [
    "for i in x_discrete:\n",
    "    print(\"{}({}) = {}\".format(\"elu\", i, elu(i)))"
   ]
  }
 ],
 "metadata": {
  "kernelspec": {
   "display_name": "Python 3",
   "language": "python",
   "name": "python3"
  },
  "language_info": {
   "codemirror_mode": {
    "name": "ipython",
    "version": 3
   },
   "file_extension": ".py",
   "mimetype": "text/x-python",
   "name": "python",
   "nbconvert_exporter": "python",
   "pygments_lexer": "ipython3",
   "version": "3.5.2"
  }
 },
 "nbformat": 4,
 "nbformat_minor": 2
}
